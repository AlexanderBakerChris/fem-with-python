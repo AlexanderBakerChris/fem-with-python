{
 "cells": [
  {
   "cell_type": "code",
   "execution_count": 1,
   "metadata": {
    "collapsed": false
   },
   "outputs": [
    {
     "data": {
      "text/html": [
       "<style>\n",
       "@import url('http://fonts.googleapis.com/css?family=Source+Code+Pro');\n",
       "@import url('http://fonts.googleapis.com/css?family=Vollkorn');\n",
       "@import url('http://fonts.googleapis.com/css?family=Arimo');\n",
       "@import url('http://fonts.googleapis.com/css?family=Arvo:400,700,400italic')\n",
       "\n",
       "#notebook li { /* More space between bullet points */\n",
       "    margin-top:0.8em;\n",
       "}\n",
       "\n",
       "/* draw border around running cells */\n",
       "div.cell.border-box-sizing.code_cell.running {\n",
       "    border: 3px solid #111;\n",
       "}\n",
       "\n",
       "div.cell.code_cell {\n",
       "    margin-top: 1em;\n",
       "    margin-left: auto;\n",
       "    margin-right: auto;\n",
       "    width: 800px;\n",
       "    border: 1px solid rgba(200, 200, 200, 0.8);\n",
       "    border-radius: 8px; /* rounded borders */\n",
       "}\n",
       "\n",
       "div.text_cell_render{\n",
       "    font-family: 'Arvo' sans-serif;\n",
       "    /* font-family: 'Arimo',verdana,arial,sans-serif; */\n",
       "    line-height: 130%;\n",
       "    font-size: 115%;\n",
       "    margin-left:0%;\n",
       "    margin-right:auto;\n",
       "}\n",
       "\n",
       ".text_cell_render h1 {\n",
       "    font-family: 'Open sans',verdana,arial,sans-serif;\n",
       "    font-weight: 300;\n",
       "    font-style: bold;\n",
       "    font-size: 30pt;\n",
       "    line-height: 100%;\n",
       "    color:#c76c0c;\n",
       "    margin-top: 0.75em;\n",
       "    margin-bottom: 0.05em;\n",
       "    display: block;\n",
       "}\n",
       "\n",
       ".text_cell_render h2 {\n",
       "    font-family: 'Open sans',verdana,arial,sans-serif;\n",
       "    font-weight: 200;\n",
       "    font-size: 20pt;\n",
       "    line-height: 100%;\n",
       "    color:#c76c0c;\n",
       "    margin-top: 0.75em;\n",
       "    margin-bottom: 0.05em;\n",
       "    display: block;\n",
       "}\n",
       "\n",
       ".text_cell_render h3 {\n",
       "    font-family: 'Open sans',verdana,arial,sans-serif;\n",
       "    font-weight: 200;\n",
       "    font-size: 16pt;\n",
       "    line-height: 100%;\n",
       "    color:#d77c0c;\n",
       "    margin-top: 0.75em;\n",
       "    margin-bottom: 0.05em;\n",
       "    display: block;\n",
       "}\n",
       "\n",
       ".text_cell_render h4 {\n",
       "    font-family: 'Open sans',verdana,arial,sans-serif;\n",
       "    font-weight: 200;\n",
       "    font-size: 14pt;\n",
       "    font-style: italic;\n",
       "    line-height: 100%;\n",
       "    color:#d77c0c;\n",
       "    margin-top: 0.75em;\n",
       "    margin-bottom: 0.05em;\n",
       "    display: block;\n",
       "}\n",
       "\n",
       ".text_cell_render h5 {\n",
       "    font-family: 'Open sans',verdana,arial,sans-serif;\n",
       "    font-weight: 200;\n",
       "    font-size: 12pt;\n",
       "    color: #1d3b84;\n",
       "    margin-top: 0.75em;\n",
       "    margin-bottom: 0.05em;\n",
       "}\n",
       "\n",
       ".rendered_html code{\n",
       "    background-color: transparent;\n",
       "}\n",
       "\n",
       "ul{\n",
       "    margin: 2em;\n",
       "}\n",
       "\n",
       "ul li{\n",
       "    padding-left: 0.5em;\n",
       "    margin-bottom: 0.5em;\n",
       "    margin-top: 0.5em;\n",
       "}\n",
       "\n",
       "ul li li{\n",
       "    padding-left: 0.2em;\n",
       "    margin-bottom: 0.2em;\n",
       "    margin-top: 0.2em;\n",
       "}\n",
       "\n",
       "ol{\n",
       "    margin: 2em;\n",
       "}\n",
       "\n",
       "ol li{\n",
       "    padding-left: 0.5em;\n",
       "    margin-bottom: 0.5em;\n",
       "    margin-top: 0.5em;\n",
       "}\n",
       "\n",
       "ul li{\n",
       "    padding-left: 0.5em;\n",
       "    margin-bottom: 0.5em;\n",
       "    margin-top: 0.2em;\n",
       "}\n",
       "\n",
       "a:link{\n",
       "    font-weight: bold;\n",
       "    color:#447adb;\n",
       "}\n",
       "\n",
       "a:visited{\n",
       "    font-weight: bold;\n",
       "    color: #1d3b84;\n",
       "}\n",
       "\n",
       "a:hover{\n",
       "    font-weight: bold;\n",
       "    color: #1d3b84;\n",
       "}\n",
       "\n",
       "a:focus{\n",
       "    font-weight: bold;\n",
       "    color:#447adb;\n",
       "}\n",
       "\n",
       "a:active{\n",
       "    font-weight: bold;\n",
       "    color:#447adb;\n",
       "}\n",
       "\n",
       ".rendered_html :link {\n",
       "    text-decoration: underline;\n",
       "}\n",
       "\n",
       ".rendered_html :hover {\n",
       "    text-decoration: none;\n",
       "}\n",
       "\n",
       ".rendered_html :visited {\n",
       "    text-decoration: none;\n",
       "}\n",
       "\n",
       ".rendered_html :focus {\n",
       "    text-decoration: none;\n",
       "}\n",
       "\n",
       ".rendered_html :active {\n",
       "    text-decoration: none;\n",
       "}\n",
       "\n",
       ".warning{\n",
       "    color: rgb( 240, 20, 20 )\n",
       "}\n",
       "\n",
       "hr {\n",
       "    color: #f3f3f3;\n",
       "    background-color: #f3f3f3;\n",
       "    height: 1px;\n",
       "}\n",
       "\n",
       "blockquote{\n",
       "    display:block;\n",
       "    background: #fcfcfc;\n",
       "    border-left: 5px solid #c76c0c;\n",
       "    font-family: 'Open sans',verdana,arial,sans-serif;\n",
       "    width:680px;\n",
       "    padding: 10px 10px 10px 10px;\n",
       "}\n",
       "\n",
       "blockquote p {\n",
       "    margin-bottom: 0;\n",
       "    line-height: 125%;\n",
       "    font-size: 100%;\n",
       "}\n",
       "\n",
       "table#mytable,\n",
       "table#mytable td,\n",
       "table#mytable tr\n",
       "{\n",
       "    border: none !important;\n",
       "}\n",
       "\n",
       "table#mytable-1,\n",
       "table#mytable-1 td,\n",
       "table#mytable-1 tr\n",
       "{\n",
       "    border: none !important;\n",
       "    align: center;\n",
       "    cellspacing: 10;\n",
       "}\n",
       "\n",
       ".msg {\n",
       "    width: 90%;\n",
       "    margin-left: auto;\n",
       "    margin-right: auto;\n",
       "    margin-top: 10px;\n",
       "    margin-bottom: 10px;\n",
       "    padding: 14px 14px 14px 14px;\n",
       "    color: #c09853;\n",
       "    text-shadow: 0 1px 0 rgba(255, 255, 255, 0.5);\n",
       "    background-color: #fcf8e3;\n",
       "    border: 1px solid #fbeed5;\n",
       "    -webkit-border-radius: 4px;\n",
       "    -moz-border-radius: 4px;\n",
       "    border-radius: 4px;\n",
       "}\n",
       "\n",
       ".msg-heading {\n",
       "    color: inherit;\n",
       "}\n",
       "\n",
       ".msg .close {\n",
       "    position: relative;\n",
       "    top: -2px;\n",
       "    right: -21px;\n",
       "    line-height: 18px;\n",
       "}\n",
       "\n",
       ".msg-success {\n",
       "    color: #468847;\n",
       "    background-color: #dff0d8;\n",
       "    border-color: #d6e9c6;\n",
       "}\n",
       "\n",
       ".msg-danger,\n",
       ".msg-error {\n",
       "    color: #b94a48;\n",
       "    background-color: #f2dede;\n",
       "    border-color: #eed3d7;\n",
       "}\n",
       "\n",
       ".msg-info {\n",
       "    color: #3a87ad;\n",
       "    background-color: #d9edf7;\n",
       "    border-color: #bce8f1;\n",
       "}\n",
       "\n",
       ".boxed {\n",
       "    color: #b94a48;\n",
       "    background-color: #f2dede;\n",
       "    border-color: #eed3d7;\n",
       "    margin-left: auto;\n",
       "    margin-right: auto;\n",
       "    padding: 14px 14px 14px 14px;\n",
       "}\n",
       "\n",
       ".w-300 { width: 300px; }\n",
       ".w-400 { width: 400px; }\n",
       ".w-500 { width: 500px; }\n",
       "\n",
       "</style>\n"
      ],
      "text/plain": [
       "<IPython.core.display.HTML object>"
      ]
     },
     "execution_count": 1,
     "metadata": {},
     "output_type": "execute_result"
    }
   ],
   "source": [
    "import theme\n",
    "theme.load_style()"
   ]
  },
  {
   "cell_type": "markdown",
   "metadata": {},
   "source": [
    "# Lesson 6: Variational Forms and Solution Methods\n",
    "\n",
    "<img src='./Images/variational.d/intro.png'/>\n",
    "\n",
    "<a rel=\"license\" href=\"http://creativecommons.org/licenses/by/4.0/\"><img alt=\"Creative Commons License\" style=\"border-width:0\" src=\"https://i.creativecommons.org/l/by/4.0/80x15.png\" /></a>\n",
    "\n",
    "This lecture by Tim Fuller is licensed under the\n",
    "<a rel=\"license\" href=\"http://creativecommons.org/licenses/by/4.0/\">Creative Commons Attribution 4.0 International License</a>.  All code examples are also licensed under the [MIT license](http://opensource.org/licenses/MIT)."
   ]
  },
  {
   "cell_type": "code",
   "execution_count": 2,
   "metadata": {
    "collapsed": false
   },
   "outputs": [],
   "source": [
    "from sympy import *\n",
    "from numpy import linspace\n",
    "from matplotlib.pyplot import plot, legend\n",
    "init_printing()"
   ]
  },
  {
   "cell_type": "markdown",
   "metadata": {},
   "source": [
    "<a id='top'></a>\n",
    "# Topics\n",
    "\n",
    "- [Why Variational Methods](#why)\n",
    "- [Weighted Residual Methods](#resid-meths)\n",
    "  - [Collocation](#collocation)\n",
    "  - [Least Squaes](#lsq)\n",
    "  - [Galerkin](#galerkin)\n",
    "- [Exercises](#exercises)"
   ]
  },
  {
   "cell_type": "markdown",
   "metadata": {},
   "source": [
    "# <a id='why'></a> Why Variational Methods?[<img src='./Images/top.png' style='width:20px;vertical-align:middle;float:right'/>](#top)\n",
    "In the finite element method, the solution to the governing equation is approximated by\n",
    "\n",
    "$$\n",
    "u \\approx u_N = \\phi_0 + \\sum_{i=1}^n u_i \\phi_i\n",
    "$$\n",
    "\n",
    "and the unknown coefficients $u_i$ are found through an integral statement of the governing equation.  The integral statement is necessary because substitution of the approximate solution into the governing equation does not always result in the required number of linearly independent equations for $u_i$.  *Weighted integrals* allow one to insure that there are exactly $n$ equations for the $n$ unknown $u_i$.  We call $u_N$ the $N-$parameter approximate solution to $u$.\n",
    "\n",
    "For example, suppose we wished to approximate the solution to"
   ]
  },
  {
   "cell_type": "code",
   "execution_count": 3,
   "metadata": {
    "collapsed": false
   },
   "outputs": [
    {
     "data": {
      "image/png": "[encoded data removed]",
      "text/latex": [
       "$$- x \\frac{d^{2}}{d x^{2}}  u{\\left (x \\right )} + u{\\left (x \\right )} - \\frac{d}{d x} u{\\left (x \\right )}$$"
      ],
      "text/plain": [
       "      2                        \n",
       "     d                 d       \n",
       "- x⋅───(u(x)) + u(x) - ──(u(x))\n",
       "      2                dx      \n",
       "    dx                         "
      ]
     },
     "execution_count": 3,
     "metadata": {},
     "output_type": "execute_result"
    }
   ],
   "source": [
    "x, u1, u2 = symbols('x u1 u2')\n",
    "u = Function('u')\n",
    "L = lambda f: -diff(x * f.diff(x), x) + f\n",
    "ode = L(u(x))\n",
    "ode"
   ]
  },
  {
   "cell_type": "markdown",
   "metadata": {},
   "source": [
    "with boundary conditions $u(0)=1$ and $\\left(xu'\\right)_{x=1}=0$.\n",
    "\n",
    "Let's choose "
   ]
  },
  {
   "cell_type": "code",
   "execution_count": 4,
   "metadata": {
    "collapsed": false
   },
   "outputs": [
    {
     "data": {
      "image/png": "[encoded data removed]",
      "text/latex": [
       "$$u_{1} \\left(x^{2} - 2 x\\right) + u_{2} \\left(x^{3} - 3 x\\right) + 1$$"
      ],
      "text/plain": [
       "   ⎛ 2      ⎞      ⎛ 3      ⎞    \n",
       "u₁⋅⎝x  - 2⋅x⎠ + u₂⋅⎝x  - 3⋅x⎠ + 1"
      ]
     },
     "execution_count": 4,
     "metadata": {},
     "output_type": "execute_result"
    }
   ],
   "source": [
    "uN = u1 * (x ** 2 - 2 * x) + u2 * (x ** 3 - 3 * x) + 1\n",
    "uN"
   ]
  },
  {
   "cell_type": "markdown",
   "metadata": {},
   "source": [
    "<div class='msg msg-info'>\n",
    "<p><strong>Remark</strong></p>\n",
    "The approximate solution must satisfy the boundary conditions for all $u_i$.\n",
    "</div>\n",
    "\n",
    "The constants $u_1$ and $u_2$ are determined such that $u_N$ satisfies the governing equation in some sense.  If $u_N$ were to satisfy the governing equation exactly, we get"
   ]
  },
  {
   "cell_type": "markdown",
   "metadata": {},
   "source": [
    "<div class='msg msg-info'><b>Remark</b><br>\n",
    "By definining the approximate solution as a sum of homogeneous and nonhomogeneous parts, the nonhomogeneous essential boundary conditions can be satisfied by $\\phi_0$, $\\phi_0(x_0) = u_0$ and $\\phi_i$ are required to satisfy the homgeneous form of the same boundary condition $\\phi_i(x_0) = 0$.  In this way, $u_N$ satisfies the specified boundary conditions\n",
    "\n",
    "$$\n",
    "u_N(x_0) = \\sum_{i=1}^Nc_i\\phi_i(x_0) + \\phi_0(x_0) = u_0\n",
    "$$\n",
    "\n",
    "If the specified essential boundary conditions are homogeneous the $\\phi_0$ is taken to be zero and $\\phi_i$ must still satisfy the same conditions $\\phi_i(x_0)=0$\n",
    "</div>"
   ]
  },
  {
   "cell_type": "code",
   "execution_count": 5,
   "metadata": {
    "collapsed": false
   },
   "outputs": [
    {
     "data": {
      "image/png": "[encoded data removed]",
      "text/latex": [
       "$$2 u_{1} + u_{2} x^{3} + 3 u_{2} + x^{2} \\left(u_{1} - 9 u_{2}\\right) + x \\left(- 6 u_{1} - 3 u_{2}\\right) + 1$$"
      ],
      "text/plain": [
       "           3           2                                   \n",
       "2⋅u₁ + u₂⋅x  + 3⋅u₂ + x ⋅(u₁ - 9⋅u₂) + x⋅(-6⋅u₁ - 3⋅u₂) + 1"
      ]
     },
     "execution_count": 5,
     "metadata": {},
     "output_type": "execute_result"
    }
   ],
   "source": [
    "L(uN).series(x)"
   ]
  },
  {
   "cell_type": "markdown",
   "metadata": {},
   "source": [
    "Since the expression must be zero for any value of $x$, the coefficients of any power of $x$ must be zero:\n",
    "\n",
    "$$\n",
    "\\begin{split}\n",
    "1+2u_1+3u_2 &= 0\\\\\n",
    "-(6u_1+3u_2) &= 0\\\\\n",
    "u_1-9u_2 &= 0\\\\\n",
    "u_2 &= 0\n",
    "\\end{split}\n",
    "$$\n",
    "\n",
    "The above set of equations is inconsistent and no solution exists.\n",
    "\n",
    "Rather than require that the approximate solution satisfy the governing equation exactly, let's require that it satisfies it in a weighted-integral sense:\n",
    "\n",
    "$$\n",
    "\\int_0^1w\\mathscr{R}dx=0\n",
    "$$\n",
    "\n",
    "where $\\mathscr{R}$ is called the residual\n",
    "\n",
    "$$\n",
    "\\mathscr{R}\\equiv -\\frac{du_N}{dx} - x\\frac{d^2}{dx^2}+u_N\n",
    "$$\n",
    "\n",
    "and $w$ is called a weight function.\n",
    "\n",
    "<div class='msg msg-info'><p><strong>Remark</strong></p>\n",
    "The residual is the non-zero remainder obtained by substituting the approximate solution in to the governing equation.\n",
    "</div>\n",
    "\n",
    "A sufficiently many number of independent equations for $u_i$ are obtained by choosing an appropriate number of functions for $w$.  For example, let $w=1$ and $w=x$.  Then,"
   ]
  },
  {
   "cell_type": "code",
   "execution_count": 6,
   "metadata": {
    "collapsed": false
   },
   "outputs": [
    {
     "data": {
      "image/png": "[encoded data removed]",
      "text/latex": [
       "$$- \\frac{2 u_{1}}{3} - \\frac{5 u_{2}}{4} + 1$$"
      ],
      "text/plain": [
       "  2⋅u₁   5⋅u₂    \n",
       "- ──── - ──── + 1\n",
       "   3      4      "
      ]
     },
     "execution_count": 6,
     "metadata": {},
     "output_type": "execute_result"
    }
   ],
   "source": [
    "residual = L(uN)\n",
    "w1 = 1\n",
    "R1 = integrate(w1 * residual, (x, 0, 1))\n",
    "R1"
   ]
  },
  {
   "cell_type": "code",
   "execution_count": 7,
   "metadata": {
    "collapsed": false
   },
   "outputs": [
    {
     "data": {
      "image/png": "[encoded data removed]",
      "text/latex": [
       "$$- \\frac{3 u_{1}}{4} - \\frac{31 u_{2}}{20} + \\frac{1}{2}$$"
      ],
      "text/plain": [
       "  3⋅u₁   31⋅u₂   1\n",
       "- ──── - ───── + ─\n",
       "   4       20    2"
      ]
     },
     "execution_count": 7,
     "metadata": {},
     "output_type": "execute_result"
    }
   ],
   "source": [
    "w2 = x\n",
    "R2 = integrate(w2 * residual, (x, 0, 1))\n",
    "R2"
   ]
  },
  {
   "cell_type": "markdown",
   "metadata": {},
   "source": [
    "Which provide two linearly independent equations for $u_1$ and $u_2$"
   ]
  },
  {
   "cell_type": "code",
   "execution_count": 8,
   "metadata": {
    "collapsed": false
   },
   "outputs": [
    {
     "data": {
      "image/png": "[encoded data removed]",
      "text/latex": [
       "$$- \\frac{100 x^{3}}{23} + \\frac{222 x^{2}}{23} - \\frac{144 x}{23} + 1$$"
      ],
      "text/plain": [
       "       3        2            \n",
       "  100⋅x    222⋅x    144⋅x    \n",
       "- ────── + ────── - ───── + 1\n",
       "    23       23       23     "
      ]
     },
     "execution_count": 8,
     "metadata": {},
     "output_type": "execute_result"
    }
   ],
   "source": [
    "c = solve((R1, R2), u1, u2)\n",
    "uN = uN.subs(c)\n",
    "uN"
   ]
  },
  {
   "cell_type": "markdown",
   "metadata": {},
   "source": [
    "We see that integral statements provide a means for generating as many equations are there are unkown coefficients in the approximate solution.  The above technique is an example of a variational method.  In variational methods, an approximate solution of the form of $u_n$ are sought and the coeficients $c_i$ are determined."
   ]
  },
  {
   "cell_type": "markdown",
   "metadata": {},
   "source": [
    "# <a id='resid-meths'></a> Weighted Residual Methods[<img src='./Images/top.png' style='width:20px;vertical-align:middle;float:right'/>](#top)\n",
    "\n",
    "The objective of this section is to expose you to variational methods of approximation.  We will look at collocation, least-squares, and Galerkin methods.  In each of these methods, we seek an approximate solution in the form of a linear combination of approxmiation functions $\\phi_i(x)$ and undetermined parameters $c_i$: $\\sum_i c_i\\phi_i$.  The parameters $c_i$ are determined such that the approximate solution satisfies a weighted integral form of the governing equation.  The finite element method makes use of variational methods to formulate the discrete equations over an element and this section will serve as an introduction to those concepts."
   ]
  },
  {
   "cell_type": "markdown",
   "metadata": {},
   "source": [
    "<a id='collocation'></a>\n",
    "## Collocation Method\n",
    "\n",
    "In the collocation method, we seek an approximate solution $u_n$ by requiring that the residual $\\mathscr R$ vanishes at as many points $x_i$ as there are unknown coefficients:\n",
    "\n",
    "$$\n",
    "\\mathscr{R}(x_i, c_j) = 0 \\quad (i=1,2,\\ldots,n)\n",
    "$$\n",
    "\n",
    "The collocation method is a special case of the weighted residual formulation with $w=\\delta(x-x_i)$, where $\\delta(x)$ is the Dirac delta function, which is defined by\n",
    "\n",
    "$$\n",
    "\\int_{-\\infty}^{\\infty}f(x)\\delta(x-x_i)dx = f(x_i)\n",
    "$$\n",
    "\n",
    "With this choice of weight functions, the weighted-residual statement is\n",
    "\n",
    "$$\n",
    "\\int_{\\Omega}\\delta(x-x_i)\\mathscr{R}(x_i, c_j)dx = 0\n",
    "$$\n",
    "\n",
    "or\n",
    "\n",
    "$$\n",
    "\\mathscr{R}(x_i, c_j) = 0\n",
    "$$"
   ]
  },
  {
   "cell_type": "markdown",
   "metadata": {},
   "source": [
    "<a id='lsq'></a>\n",
    "## Least Squares Method\n",
    "\n",
    "In the least squares method we wish to minimize residual in the sense of least squares. Mathematically we say that we wish to minimize the integral of the square of the residual on some interval\n",
    "\n",
    "$$\n",
    "   \\min\\int_{x_0}^{x_f}\\mathscr R^2\\,dx\n",
    "$$\n",
    "\n",
    "\n",
    "Recall from calculus, that the minimum of a function occurs where its first derivative, with respect to the minimizing variable, is equal to zero. This fact leads to\n",
    "\n",
    "\n",
    "$$\n",
    "   \\frac{\\partial{}}{\\partial{c_{i}}}\\int\\mathscr R^2\\,dx=0\n",
    "   \\quad i=0,1,\\ldots,n-1\n",
    "$$\n",
    "\n",
    "\n",
    "By the chain rule of calculus we re-write as\n",
    "\n",
    "\n",
    "$$\n",
    "   \\int\\mathscr R\\frac{\\partial{\\mathscr R}}{\\partial{c_{i}}}\\,dx=0\n",
    "$$\n",
    "\n",
    "\n",
    "Upon substituting $\\mathscr R$ and performing the required integration we will end up with $n$ equations for the $n$ unknown $c_{i}$ as in the collocation method."
   ]
  },
  {
   "cell_type": "markdown",
   "metadata": {},
   "source": [
    "<a id='galerkin'></a>## Galerkin Method\n",
    "In the Galerkin method, the choice of weighting functions $w_i$ is restricted to be equal to the approximation function $\\phi_i$, giving\n",
    "\n",
    "$$\n",
    "\\int \\mathscr{R}\\phi_i dx = 0\n",
    "$$\n",
    "\n",
    "\n",
    "\n",
    "### An Appeal to Physical Intuition\n",
    "\n",
    "Vector analysis can give physical insight in to the Galerkin weighted-residual method.  Suppose we wished to approximate the vector $\\boldsymbol{v}\\in\\mathbb{R}^3$ with a vector $\\boldsymbol{v}^*\\in\\mathbb{R}^2$, as shown\n",
    "\n",
    "<img src='./Images/weighted-res.d/vproj.png' style='width:65%'/>\n",
    "\n",
    "For what values of $v_x^*$ and $v_y^*$ is the residual vector $\\boldsymbol{R}$ minimized? Stated differently, what values of $v_x^*$ and $v_y^*$ minimize $\\mathscr{R}=\\lVert \\boldsymbol{R} \\rVert$?\n",
    "\n",
    "It turns out, that the minimum occurs at $\\mathscr{R}=v_z$ when $\\boldsymbol{v}^*$ is the orthogonal projection of $\\boldsymbol{v}$ on to $\\mathbb{R}^2$ (then $v_x^*=v_x$ and $v_y^*=v_y$, this should make sense intuitively.)  Mathematically, we say\n",
    "\n",
    "Thus, the minimum $\\mathscr{R}=\\lVert \\boldsymbol{R} \\rVert$ occurs when $\\boldsymbol{R}$ is orthogonal to $\\boldsymbol{v}^*$\n",
    "\n",
    "$$\n",
    "(\\boldsymbol{R}, \\boldsymbol{v}^*) = 0\n",
    "$$\n",
    "\n",
    "Replacing \"vectors\" in the above discussion with \"functions\", we arrive at\n",
    "\n",
    "$$\n",
    "(\\mathscr{R}, \\phi_i) = (\\mathscr{R}, w) = 0\n",
    "$$\n",
    "\n",
    "which is the Galerkin weighted-residual method."
   ]
  },
  {
   "cell_type": "markdown",
   "metadata": {},
   "source": [
    "<a id='example'></a>\n",
    "## Example\n",
    "\n",
    "Consider the following differential equation\n",
    "\n",
    "$$\n",
    "-\\frac{d^2u}{dx^2} - u + x^2, \\quad u(0) = 0, u'(1) = 1\n",
    "$$\n",
    "\n",
    "For a weighted-residual method, $\\phi_0$ and $\\phi_i$ should satisfy\n",
    "\n",
    "$$\n",
    "\\begin{align}\n",
    "\\phi_0(0) = 0, \\ \\phi'(0) = 1 \\quad &\\text{(boundary conditions)}\\\\\n",
    "\\phi_i(0) = 0, \\ \\phi'(1) = 0 \\quad &\\text{(homogeneous boundary condtions)}\n",
    "\\end{align}\n",
    "$$\n",
    "\n",
    "We choose $\\phi_0(x) = a + bx$ and use the conditions on $\\phi_0$ to determine that \n",
    "\n",
    "$$ \\phi_0(x) = x $$\n",
    "\n",
    "Since there are two homogeneous boundary conditions, $\\phi_1$ must be at least a three parameter polynomial.  We choose $\\phi_1=a+bx+cx^2$.  We use the boundary conditions to find that\n",
    "\n",
    "$$ \\phi_1(x) = -x(2 - x) $$\n",
    "\n",
    "For $\\phi_2$ we assume the form $\\phi_2 = a + cx^2 + dx^3$.  Enforcing boundary conditions we get\n",
    "\n",
    "$$ \\phi_2(x) = -x^2\\left(1 - \\frac{2}{3}x\\right) $$\n",
    "\n",
    "The residual in the approximation is\n",
    "\n",
    "$$\n",
    "\\mathscr{R} = -\\left(0 + \\sum_{i=1}^2c_i\\frac{d^2\\phi_i}{dx^2}\\right)\n",
    "            - \\left(\\phi_0 + \\sum_{i=1}^2c_i\\phi_i\\right) + x^2\n",
    "$$\n",
    "\n",
    "Let's now use the various methods to solve for $c_i$."
   ]
  },
  {
   "cell_type": "markdown",
   "metadata": {},
   "source": [
    "### Setup"
   ]
  },
  {
   "cell_type": "code",
   "execution_count": 9,
   "metadata": {
    "collapsed": false
   },
   "outputs": [
    {
     "data": {
      "image/png": "[encoded data removed]",
      "text/latex": [
       "$$c_{1} x^{2} - 2 c_{1} x + 2 c_{1} + \\frac{2 c_{2}}{3} x^{3} - c_{2} x^{2} + 4 c_{2} x - 2 c_{2} + x^{2} - x$$"
      ],
      "text/plain": [
       "                              3                                 \n",
       "    2                   2⋅c₂⋅x        2                    2    \n",
       "c₁⋅x  - 2⋅c₁⋅x + 2⋅c₁ + ─────── - c₂⋅x  + 4⋅c₂⋅x - 2⋅c₂ + x  - x\n",
       "                           3                                    "
      ]
     },
     "execution_count": 9,
     "metadata": {},
     "output_type": "execute_result"
    }
   ],
   "source": [
    "# symbols\n",
    "c1, c2, x = symbols('c1 c2 x')\n",
    "\n",
    "# differential operator\n",
    "L = lambda f: -f.diff(x, x) - f + x ** 2\n",
    "\n",
    "# approximate solution basis functions\n",
    "phi0 = x\n",
    "phi1 = x * (2 - x)\n",
    "phi2 = x ** 2 * (1 - 2 * x / 3)\n",
    "\n",
    "# Residual\n",
    "R = L(phi0 + c1 * phi1 + c2 * phi2)\n",
    "R.simplify()"
   ]
  },
  {
   "cell_type": "markdown",
   "metadata": {},
   "source": [
    "### Galerkin Method"
   ]
  },
  {
   "cell_type": "code",
   "execution_count": 10,
   "metadata": {
    "collapsed": false
   },
   "outputs": [
    {
     "data": {
      "image/png": "[encoded data removed]",
      "text/latex": [
       "$$\\frac{21 x^{2}}{4306} \\left(- \\frac{2 x}{3} + 1\\right) + \\frac{623 x}{4306} \\left(- x + 2\\right) + x$$"
      ],
      "text/plain": [
       "    2 ⎛  2⋅x    ⎞                     \n",
       "21⋅x ⋅⎜- ─── + 1⎟                     \n",
       "      ⎝   3     ⎠   623⋅x⋅(-x + 2)    \n",
       "───────────────── + ────────────── + x\n",
       "       4306              4306         "
      ]
     },
     "execution_count": 10,
     "metadata": {},
     "output_type": "execute_result"
    }
   ],
   "source": [
    "# Galerkin method\n",
    "# wi = phii\n",
    "gal = [integrate(phi1 * R, (x, 0, 1)), \n",
    "       integrate(phi2 * R, (x, 0, 1))]\n",
    "c = solve(gal, c1, c2)\n",
    "ugal = phi0 + c[c1] * phi1 + c[c2] * phi2\n",
    "ugal"
   ]
  },
  {
   "cell_type": "markdown",
   "metadata": {},
   "source": [
    "### Least Squares method"
   ]
  },
  {
   "cell_type": "code",
   "execution_count": 11,
   "metadata": {
    "collapsed": false
   },
   "outputs": [
    {
     "data": {
      "image/png": "[encoded data removed]",
      "text/latex": [
       "$$\\frac{993 x^{2}}{29086} \\left(- \\frac{2 x}{3} + 1\\right) + \\frac{25577 x}{203602} \\left(- x + 2\\right) + x$$"
      ],
      "text/plain": [
       "     2 ⎛  2⋅x    ⎞                       \n",
       "993⋅x ⋅⎜- ─── + 1⎟                       \n",
       "       ⎝   3     ⎠   25577⋅x⋅(-x + 2)    \n",
       "────────────────── + ──────────────── + x\n",
       "      29086               203602         "
      ]
     },
     "execution_count": 11,
     "metadata": {},
     "output_type": "execute_result"
    }
   ],
   "source": [
    "# Least squares method\n",
    "# wi = dR/dci\n",
    "lsq = [integrate(R.diff(c1) * R, (x, 0, 1)), \n",
    "       integrate(R.diff(c2) * R, (x, 0, 1))]\n",
    "c = solve(lsq, c1, c2)\n",
    "ulsq = phi0 + c[c1] * phi1 + c[c2] * phi2\n",
    "ulsq"
   ]
  },
  {
   "cell_type": "markdown",
   "metadata": {},
   "source": [
    "### Collocation method"
   ]
  },
  {
   "cell_type": "code",
   "execution_count": 12,
   "metadata": {
    "collapsed": false
   },
   "outputs": [
    {
     "data": {
      "image/png": "[encoded data removed]",
      "text/latex": [
       "$$0.0513307984790875 x^{2} \\left(- \\frac{2 x}{3} + 1\\right) + 0.180608365019011 x \\left(- x + 2\\right) + x$$"
      ],
      "text/plain": [
       "                    2 ⎛  2⋅x    ⎞                                   \n",
       "0.0513307984790875⋅x ⋅⎜- ─── + 1⎟ + 0.180608365019011⋅x⋅(-x + 2) + x\n",
       "                      ⎝   3     ⎠                                   "
      ]
     },
     "execution_count": 12,
     "metadata": {},
     "output_type": "execute_result"
    }
   ],
   "source": [
    "# Collocation method\n",
    "# choose points x1 = 1/3, x2 = 2/3\n",
    "col = [R.subs({x: 1. / 3.}), \n",
    "       R.subs({x: 2. / 3.})]\n",
    "c = solve(col, c1, c2)\n",
    "ucol = phi0 + c[c1] * phi1 + c[c2] * phi2\n",
    "ucol"
   ]
  },
  {
   "cell_type": "markdown",
   "metadata": {},
   "source": [
    "### Analytic solution"
   ]
  },
  {
   "cell_type": "code",
   "execution_count": 13,
   "metadata": {
    "collapsed": false
   },
   "outputs": [
    {
     "data": {
      "image/png": "[encoded data removed]",
      "text/latex": [
       "$$x^{2} + \\frac{\\sin{\\left (x \\right )}}{\\cos{\\left (1 \\right )}} \\left(-1 + 2 \\sin{\\left (1 \\right )}\\right) + 2 \\cos{\\left (x \\right )} - 2$$"
      ],
      "text/plain": [
       " 2   (-1 + 2⋅sin(1))⋅sin(x)               \n",
       "x  + ────────────────────── + 2⋅cos(x) - 2\n",
       "             cos(1)                       "
      ]
     },
     "execution_count": 13,
     "metadata": {},
     "output_type": "execute_result"
    }
   ],
   "source": [
    "# analytical solution\n",
    "u = Function('u')\n",
    "sol = dsolve(L(u(x))).rhs\n",
    "c = solve([sol.subs(x, 0), sol.diff(x).subs(x, 1) - 1], 'C1', 'C2')\n",
    "sol = sol.subs(c)\n",
    "sol"
   ]
  },
  {
   "cell_type": "markdown",
   "metadata": {},
   "source": [
    "### Comparison of Solution Methods"
   ]
  },
  {
   "cell_type": "code",
   "execution_count": 14,
   "metadata": {
    "collapsed": false
   },
   "outputs": [
    {
     "data": {
      "image/png": "[encoded data removed]",
      "text/plain": [
       "<matplotlib.figure.Figure at 0x1070e1090>"
      ]
     },
     "metadata": {},
     "output_type": "display_data"
    }
   ],
   "source": [
    "%matplotlib inline\n",
    "f_ana = lambdify(x, sol)\n",
    "f_col = lambdify(x, ucol)\n",
    "f_lsq = lambdify(x, ulsq)\n",
    "f_gal = lambdify(x, ugal)\n",
    "xvals = linspace(0, 1, 100)\n",
    "plot(xvals, [f_ana(xval) for xval in xvals], label=\"Analytic\", color='black')\n",
    "plot(xvals, [f_col(xval) for xval in xvals], label=\"Collocation\")\n",
    "plot(xvals, [f_lsq(xval) for xval in xvals], label=\"Least squares\")\n",
    "plot(xvals, [f_gal(xval) for xval in xvals], label=\"Gallerkin\")\n",
    "legend(loc=\"best\");"
   ]
  }
 ],
 "metadata": {
  "kernelspec": {
   "display_name": "Python 2",
   "language": "python",
   "name": "python2"
  },
  "language_info": {
   "codemirror_mode": {
    "name": "ipython",
    "version": 2
   },
   "file_extension": ".py",
   "mimetype": "text/x-python",
   "name": "python",
   "nbconvert_exporter": "python",
   "pygments_lexer": "ipython2",
   "version": "2.7.9"
  }
 },
 "nbformat": 4,
 "nbformat_minor": 0
}
